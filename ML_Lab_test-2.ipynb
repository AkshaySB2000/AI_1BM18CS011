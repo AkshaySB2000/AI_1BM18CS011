{
 "cells": [
  {
   "cell_type": "code",
   "execution_count": 1,
   "id": "laden-lounge",
   "metadata": {
    "_cell_guid": "b1076dfc-b9ad-4769-8c92-a6c4dae69d19",
    "_uuid": "8f2839f25d086af736a60e9eeb907d3b93b6e0e5",
    "execution": {
     "iopub.execute_input": "2021-06-15T09:34:23.437566Z",
     "iopub.status.busy": "2021-06-15T09:34:23.436539Z",
     "iopub.status.idle": "2021-06-15T09:34:23.444446Z",
     "shell.execute_reply": "2021-06-15T09:34:23.444916Z",
     "shell.execute_reply.started": "2021-06-15T09:33:48.967439Z"
    },
    "papermill": {
     "duration": 0.018523,
     "end_time": "2021-06-15T09:34:23.445219",
     "exception": false,
     "start_time": "2021-06-15T09:34:23.426696",
     "status": "completed"
    },
    "tags": []
   },
   "outputs": [],
   "source": [
    "# This Python 3 environment comes with many helpful analytics libraries installed\n",
    "# It is defined by the kaggle/python Docker image: https://github.com/kaggle/docker-python\n",
    "# For example, here's several helpful packages to load\n",
    "\n",
    "import numpy as np # linear algebra\n",
    "import pandas as pd # data processing, CSV file I/O (e.g. pd.read_csv)\n",
    "import matplotlib.pyplot as plt\n",
    "\n",
    "# Input data files are available in the read-only \"../input/\" directory\n",
    "# For example, running this (by clicking run or pressing Shift+Enter) will list all files under the input directory\n",
    "\n",
    "import os\n",
    "for dirname, _, filenames in os.walk('/kaggle/input'):\n",
    "    for filename in filenames:\n",
    "        print(os.path.join(dirname, filename))\n",
    "\n",
    "# You can write up to 20GB to the current directory (/kaggle/working/) that gets preserved as output when you create a version using \"Save & Run All\" \n",
    "# You can also write temporary files to /kaggle/temp/, but they won't be saved outside of the current session"
   ]
  },
  {
   "cell_type": "code",
   "execution_count": 2,
   "id": "configured-november",
   "metadata": {
    "execution": {
     "iopub.execute_input": "2021-06-15T09:34:23.456710Z",
     "iopub.status.busy": "2021-06-15T09:34:23.456114Z",
     "iopub.status.idle": "2021-06-15T09:34:23.460284Z",
     "shell.execute_reply": "2021-06-15T09:34:23.460659Z",
     "shell.execute_reply.started": "2021-06-15T09:33:48.974279Z"
    },
    "papermill": {
     "duration": 0.011265,
     "end_time": "2021-06-15T09:34:23.460838",
     "exception": false,
     "start_time": "2021-06-15T09:34:23.449573",
     "status": "completed"
    },
    "tags": []
   },
   "outputs": [],
   "source": [
    "def coefficient(x,y):\n",
    "    n = np.size(x)\n",
    "    meanx = np.mean(x)\n",
    "    meany = np.mean(y)\n",
    "    SS_xy = np.sum(y*x) - n*meany*meanx\n",
    "    SS_xx = np.sum(x*x) - n*meanx*meanx\n",
    "    t1 = SS_xy/SS_xx\n",
    "    t0 = meany - t1*meanx\n",
    "    return (t0,t1)"
   ]
  },
  {
   "cell_type": "code",
   "execution_count": 3,
   "id": "altered-voluntary",
   "metadata": {
    "execution": {
     "iopub.execute_input": "2021-06-15T09:34:23.471905Z",
     "iopub.status.busy": "2021-06-15T09:34:23.471342Z",
     "iopub.status.idle": "2021-06-15T09:34:23.475505Z",
     "shell.execute_reply": "2021-06-15T09:34:23.475924Z",
     "shell.execute_reply.started": "2021-06-15T09:33:48.997901Z"
    },
    "papermill": {
     "duration": 0.011094,
     "end_time": "2021-06-15T09:34:23.476089",
     "exception": false,
     "start_time": "2021-06-15T09:34:23.464995",
     "status": "completed"
    },
    "tags": []
   },
   "outputs": [],
   "source": [
    "def plot_line(x,y,t):\n",
    "    plt.scatter(x, y, color = 'blue', marker = 'o', s = 30)\n",
    "    ypred = t[0] + t[1]*x\n",
    "    plt.plot(x, ypred, color = 'red')\n",
    "    plt.xlabel('X')\n",
    "    plt.ylabel('Y')\n",
    "    plt.show()"
   ]
  },
  {
   "cell_type": "code",
   "execution_count": 4,
   "id": "unsigned-dominant",
   "metadata": {
    "execution": {
     "iopub.execute_input": "2021-06-15T09:34:23.487195Z",
     "iopub.status.busy": "2021-06-15T09:34:23.486378Z",
     "iopub.status.idle": "2021-06-15T09:34:23.491348Z",
     "shell.execute_reply": "2021-06-15T09:34:23.491733Z",
     "shell.execute_reply.started": "2021-06-15T09:33:49.018074Z"
    },
    "papermill": {
     "duration": 0.011711,
     "end_time": "2021-06-15T09:34:23.491893",
     "exception": false,
     "start_time": "2021-06-15T09:34:23.480182",
     "status": "completed"
    },
    "tags": []
   },
   "outputs": [],
   "source": [
    "def main():\n",
    "    x = np.array([43,21,25,42,57,59])\n",
    "    y = np.array([95,65,79,75,87,81])\n",
    "    t = coefficient(x,y)\n",
    "    print(\"The estimated coefficients are: \\nt0 = {} \\nt1 = {}\".format(t[0],t[1]))\n",
    "    plot_line(x,y,t)\n",
    "    h = t[0] + t[1]*55\n",
    "    print(\"Predicted value of y for (x = 55):\", h)"
   ]
  },
  {
   "cell_type": "code",
   "execution_count": 5,
   "id": "first-hands",
   "metadata": {
    "execution": {
     "iopub.execute_input": "2021-06-15T09:34:23.502800Z",
     "iopub.status.busy": "2021-06-15T09:34:23.501982Z",
     "iopub.status.idle": "2021-06-15T09:34:23.689161Z",
     "shell.execute_reply": "2021-06-15T09:34:23.689559Z",
     "shell.execute_reply.started": "2021-06-15T09:33:49.040402Z"
    },
    "papermill": {
     "duration": 0.193866,
     "end_time": "2021-06-15T09:34:23.689739",
     "exception": false,
     "start_time": "2021-06-15T09:34:23.495873",
     "status": "completed"
    },
    "tags": []
   },
   "outputs": [
    {
     "name": "stdout",
     "output_type": "stream",
     "text": [
      "The estimated coefficients are: \n",
      "t0 = 64.7182001343183 \n",
      "t1 = 0.37931497649429224\n"
     ]
    },
    {
     "data": {
      "image/png": "[encoded data removed]",
      "text/plain": [
       "<Figure size 432x288 with 1 Axes>"
      ]
     },
     "metadata": {
      "needs_background": "light"
     },
     "output_type": "display_data"
    },
    {
     "name": "stdout",
     "output_type": "stream",
     "text": [
      "Predicted value of y for (x = 55): 85.58052384150437\n"
     ]
    }
   ],
   "source": [
    "main()"
   ]
  }
 ],
 "metadata": {
  "kernelspec": {
   "display_name": "Python 3",
   "language": "python",
   "name": "python3"
  },
  "language_info": {
   "codemirror_mode": {
    "name": "ipython",
    "version": 3
   },
   "file_extension": ".py",
   "mimetype": "text/x-python",
   "name": "python",
   "nbconvert_exporter": "python",
   "pygments_lexer": "ipython3",
   "version": "3.7.10"
  },
  "papermill": {
   "default_parameters": {},
   "duration": 7.706536,
   "end_time": "2021-06-15T09:34:24.304152",
   "environment_variables": {},
   "exception": null,
   "input_path": "__notebook__.ipynb",
   "output_path": "__notebook__.ipynb",
   "parameters": {},
   "start_time": "2021-06-15T09:34:16.597616",
   "version": "2.3.3"
  }
 },
 "nbformat": 4,
 "nbformat_minor": 5
}
